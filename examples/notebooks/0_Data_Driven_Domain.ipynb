{
 "cells": [
  {
   "cell_type": "markdown",
   "id": "82fe3c04",
   "metadata": {},
   "source": [
    "# Defining a Data-Driven Domain of Shapes"
   ]
  },
  {
   "cell_type": "markdown",
   "id": "4181678f-0451-4be1-adb1-d0781cfed182",
   "metadata": {},
   "source": [
    "**Input to define domain**:\n",
    "\n",
    "- Dataset of 2D shapes (cross sections)\n",
    "- Dependencies detailed below"
   ]
  },
  {
   "cell_type": "code",
   "execution_count": 1,
   "id": "adb9e201-0469-46bc-8782-3fdb516a8576",
   "metadata": {},
   "outputs": [],
   "source": [
    "# Python\n",
    "import os\n",
    "import numpy as np\n",
    "\n",
    "# G2Aero\n",
    "from g2aero.PGA import PGAspace, Dataset\n",
    "from g2aero import Grassmann as gr\n",
    "\n",
    "# plotting routines\n",
    "import pandas as pd\n",
    "import seaborn as sns\n",
    "import matplotlib.pyplot as plt"
   ]
  },
  {
   "cell_type": "markdown",
   "id": "39d74999",
   "metadata": {},
   "source": [
    "## Read airfoils data from data subdirectory\n",
    "First we need to load dataset of airfoils shapes stored in one of .npz files in `data/airfoils/`. "
   ]
  },
  {
   "cell_type": "code",
   "execution_count": 2,
   "id": "82e054cf",
   "metadata": {
    "scrolled": true
   },
   "outputs": [
    {
     "name": "stdout",
     "output_type": "stream",
     "text": [
      "Dataset:\n",
      "Shape of data = (13000, 401, 2)\n",
      "N_shapes = 13000\n",
      "n_landmarks in every shape = 401\n"
     ]
    }
   ],
   "source": [
    "shapes_folder  = os.path.join(os.getcwd(), '../../data/airfoils/', )\n",
    "#shapes = np.load(os.path.join(shapes_folder, 'shapes.npz'))['shapes']\n",
    "shapes = np.load(os.path.join(shapes_folder, 'CST_shapes_TE_gap.npz'))['shapes']\n",
    "print(\"Dataset:\")\n",
    "print(f\"Shape of data = {shapes.shape}\")\n",
    "print(f\"N_shapes = {shapes.shape[0]}\")\n",
    "print(f\"n_landmarks in every shape = {shapes.shape[1]}\")"
   ]
  },
  {
   "cell_type": "markdown",
   "id": "6f072d5a",
   "metadata": {},
   "source": [
    "## Build PGA space and get coordinates\n",
    "Now we can construct PGA space from given dataset of airfoil shapes. `PGAspace.create_from_dataset()` method returns PGAspace object and array of airfoils coordinates in this space."
   ]
  },
  {
   "cell_type": "code",
   "execution_count": 3,
   "id": "ebd72273",
   "metadata": {},
   "outputs": [
    {
     "name": "stdout",
     "output_type": "stream",
     "text": [
      "Karcher mean convergence:\n",
      "||V||_F = 0.10235806971182138\n",
      "||V||_F = 0.00015526889897758003\n",
      "||V||_F = 2.7114758181406616e-07\n",
      "||V||_F = 5.985411586299064e-10\n"
     ]
    }
   ],
   "source": [
    "# compute Karcher mean and run PGA to define coordinates\n",
    "pga, t = PGAspace.create_from_dataset(shapes)"
   ]
  },
  {
   "cell_type": "markdown",
   "id": "309be809",
   "metadata": {},
   "source": [
    "To visualize this PGA space we plot first four (out of 2*n_landmarks) coordinates of dataset shapes as scatterplot with marginal distribution on diagnal."
   ]
  },
  {
   "cell_type": "code",
   "execution_count": 4,
   "id": "d592c81d",
   "metadata": {},
   "outputs": [],
   "source": [
    "coord_names = ['$t_1$', '$t_2$', '$t_3$', '$t_4$']\n",
    "df_all = pd.DataFrame(data=t[:, :4], columns=coord_names)\n",
    "sns_plot = sns.pairplot(df_all, x_vars=coord_names, y_vars=coord_names,\n",
    "                        diag_kind='kde', corner=True, plot_kws=dict(s=15))"
   ]
  },
  {
   "cell_type": "markdown",
   "id": "be8dd7a9",
   "metadata": {},
   "source": [
    "## Low-dimensional shape reconstruction\n",
    "Let's reconstruct a shape using fewer parameters (using lower-dimentional PGA space) and compare it to the original shape. Here we set the reduced number of parameters (the dimension of PGA space) to `r=4` and choose the shape with index `j=1` for demonstration. We also need to calculate LA standardization. LA-standardized shapes and corresponding affine transformation is stored in the `data` object of `Dataset` class."
   ]
  },
  {
   "cell_type": "code",
   "execution_count": 5,
   "id": "398d981c",
   "metadata": {},
   "outputs": [],
   "source": [
    "# assign r as the dimension of the PGA shape\n",
    "r = 4 # should always be less than or equal to 2*(n_landmarks - 2)\n",
    "# pick a shape based on index from the dataset\n",
    "j = 1 # should be less than or equal to N_shapes-1\n",
    "# save LA standardized shapes and corresponding affine transformation\n",
    "data = Dataset(shapes)"
   ]
  },
  {
   "cell_type": "markdown",
   "id": "9352a8c0",
   "metadata": {},
   "source": [
    "To compare original and reconstructed shape we can use Grassmannian distanse (distance measure between shape elements on Grassmannian) and worst-case Euclidean error (maximum of Euclidean distances between corresponding shape nodes). "
   ]
  },
  {
   "cell_type": "code",
   "execution_count": 6,
   "id": "18512c3a",
   "metadata": {},
   "outputs": [
    {
     "name": "stdout",
     "output_type": "stream",
     "text": [
      "Grassmannian distance: 0.03607142623675289\n"
     ]
    }
   ],
   "source": [
    "# transform from PGA space to element on Grassmann\n",
    "shape_gr_new = pga.PGA2gr_shape(t[j,:r], original_shape_gr=data.shapes_gr[j])\n",
    "# compute Grassmannian distance error\n",
    "err_gr = gr.distance(shape_gr_new, data.shapes_gr[j])\n",
    "print(f'Grassmannian distance: {err_gr}')"
   ]
  },
  {
   "cell_type": "code",
   "execution_count": 7,
   "id": "5b0aee6b",
   "metadata": {},
   "outputs": [
    {
     "name": "stdout",
     "output_type": "stream",
     "text": [
      "Worst-case Euclidean error: 0.004075096848161961\n"
     ]
    }
   ],
   "source": [
    "def norm_inf2(sh1, sh2):\n",
    "    d = np.max(np.linalg.norm(sh1-sh2, ord=2, axis=1))\n",
    "    return d\n",
    "\n",
    "# transform from PGA space to physical scales\n",
    "phys_shape = pga.PGA2shape(t[j,:r], M=data.M[j], b=data.b[j], \n",
    "                           original_shape_gr=data.shapes_gr[j])\n",
    "# compute worst-case Euclidean error in row-wise landmarks\n",
    "err_inf2 = norm_inf2(phys_shape, shapes[j])\n",
    "print(f'Worst-case Euclidean error: {err_inf2}')"
   ]
  },
  {
   "cell_type": "code",
   "execution_count": 8,
   "id": "2cdfb18e",
   "metadata": {},
   "outputs": [
    {
     "data": {
      "text/plain": [
       "<matplotlib.legend.Legend at 0x7fb360544280>"
      ]
     },
     "execution_count": 8,
     "metadata": {},
     "output_type": "execute_result"
    }
   ],
   "source": [
    "# plot the low-dimensional shape and the original shape\n",
    "fig, ax = plt.subplots(1, 1, figsize=(12, 5))\n",
    "plt.plot(phys_shape[:,0], phys_shape[:,1],linewidth=2.5, label='low-dimensional shape')\n",
    "plt.plot(shapes[j,:,0], shapes[j,:,1],'--',linewidth=2.5, label='original shape')\n",
    "# formatting\n",
    "plt.axis('off')\n",
    "ax.axis('equal')\n",
    "ax.legend(fontsize='x-large')"
   ]
  }
 ],
 "metadata": {
  "kernelspec": {
   "display_name": "Python 3.8 (XPython)",
   "language": "python",
   "name": "xpython"
  },
  "language_info": {
   "file_extension": ".py",
   "mimetype": "text/x-python",
   "name": "python",
   "version": "3.8.8"
  }
 },
 "nbformat": 4,
 "nbformat_minor": 5
}
