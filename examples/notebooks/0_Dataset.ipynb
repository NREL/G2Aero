{
 "cells": [
  {
   "cell_type": "markdown",
   "id": "82fe3c04",
   "metadata": {},
   "source": [
    "# How to read airfoil shapes data (already reparametrized) "
   ]
  },
  {
   "cell_type": "markdown",
   "id": "39d74999",
   "metadata": {},
   "source": [
    "## How to read airfoils data from .npz file"
   ]
  },
  {
   "cell_type": "code",
   "execution_count": 1,
   "id": "3b2af61a",
   "metadata": {},
   "outputs": [],
   "source": [
    "# import matplotlib.pyplot as plt\n",
    "\n",
    "\n",
    "# from g2aero.Grassmann import *\n",
    "# from g2aero.utils import *\n",
    "#  Dataset"
   ]
  },
  {
   "cell_type": "code",
   "execution_count": 6,
   "id": "82e054cf",
   "metadata": {},
   "outputs": [
    {
     "name": "stdout",
     "output_type": "stream",
     "text": [
      "Dataset:\n",
      "Shape of data = (2588, 500, 2)\n",
      "N shapes = 2588\n",
      "n landmarks in every shape = 500\n"
     ]
    }
   ],
   "source": [
    "import os\n",
    "import numpy as np\n",
    "shapes_folder  = os.path.join(os.getcwd(), '../../data/airfoils/', )\n",
    "\n",
    "shapes = np.load(os.path.join(shapes_folder, 'shapes.npz'))['shapes']\n",
    "# classes= np.load(os.path.join(shapes_folder, 'shapes.npz'))['classes']\n",
    "print(\"Dataset:\")\n",
    "print(f\"Shape of data = {shapes.shape}\")\n",
    "print(f\"N shapes = {shapes.shape[0]}\")\n",
    "print(f\"n landmarks in every shape = {shapes.shape[1]}\")"
   ]
  },
  {
   "cell_type": "markdown",
   "id": "6f072d5a",
   "metadata": {},
   "source": [
    "## How to construct PGA space and get coordinates "
   ]
  },
  {
   "cell_type": "code",
   "execution_count": 7,
   "id": "ebd72273",
   "metadata": {},
   "outputs": [
    {
     "name": "stdout",
     "output_type": "stream",
     "text": [
      "Karcher mean convergence:\n",
      "||V||_F = 0.45130427482058105\n",
      "||V||_F = 0.002084258010036918\n",
      "||V||_F = 1.5924782056615687e-05\n",
      "||V||_F = 1.8980134151380567e-07\n",
      "||V||_F = 2.4778808741590328e-09\n"
     ]
    }
   ],
   "source": [
    "from g2aero.perturbation import PGAspace\n",
    "pga, t = PGAspace.create_from_dataset(shapes)"
   ]
  },
  {
   "cell_type": "code",
   "execution_count": null,
   "id": "d592c81d",
   "metadata": {},
   "outputs": [],
   "source": [
    "import pandas as pd\n",
    "import seaborn as sns\n",
    "coord_names = ['$t_1$', '$t_2$', '$t_3$', '$t_4$']\n",
    "df_all = pd.DataFrame(data=t[:, :4], columns=coord_names)\n",
    "sns_plot = sns.pairplot(df_all, x_vars=coord_names, y_vars=coord_names,\n",
    "                        diag_kind='kde', palette='Dark2', corner=True, plot_kws=dict(s=15))"
   ]
  },
  {
   "cell_type": "markdown",
   "id": "be8dd7a9",
   "metadata": {},
   "source": [
    "## Reconstruction error"
   ]
  },
  {
   "cell_type": "code",
   "execution_count": null,
   "id": "5b0aee6b",
   "metadata": {},
   "outputs": [],
   "source": [
    "def norm_inf2(sh1, sh2):\n",
    "    d = np.max(np.linalg.norm(sh1-sh2, ord=2, axis=1))\n",
    "    return d\n",
    "\n",
    "def norm_te(sh1, sh2):\n",
    "    return np.linalg.norm(sh1[(0, -1)] - sh2[(0,-1)], ord=2, axis=1)\n",
    "\n",
    "r_arr = np.arange(2, 2*n_landmarks)\n",
    "err_gr = np.zeros((data.n_shapes, len(r_arr)))\n",
    "err_te = np.zeros((data.n_shapes, len(r_arr)))\n",
    "err_inf2 = np.zeros((data.n_shapes, len(r_arr)))\n",
    "for i, r in enumerate(r_arr):\n",
    "    for j, coord in enumerate(t[:, :r]): \n",
    "        shape_new = perturb_gr_shape(pga.Vh, pga.karcher_mean, coord)\n",
    "        R = procrustes(shape_new, data.shapes_gr[j])\n",
    "        shape_new = shape_new @ R\n",
    "        err_gr[j, i] = distance(shape_new, data.shapes_gr[j])\n",
    "        phys_shape = shape_new @ data.M[j] + data.b[j]\n",
    "        err_inf2[j, i] = norm_inf2(phys_shape, shapes[j])\n",
    "        err_te[j, i] = norm_inf2(phys_shape, shapes[j])"
   ]
  },
  {
   "cell_type": "code",
   "execution_count": null,
   "id": "ae1670f3",
   "metadata": {},
   "outputs": [],
   "source": []
  },
  {
   "cell_type": "code",
   "execution_count": null,
   "id": "e7d45c5d",
   "metadata": {},
   "outputs": [],
   "source": []
  },
  {
   "cell_type": "code",
   "execution_count": null,
   "id": "ec176691",
   "metadata": {},
   "outputs": [],
   "source": []
  },
  {
   "cell_type": "code",
   "execution_count": null,
   "id": "3dbf3198",
   "metadata": {},
   "outputs": [],
   "source": []
  },
  {
   "cell_type": "code",
   "execution_count": null,
   "id": "afc66e0c",
   "metadata": {},
   "outputs": [],
   "source": []
  }
 ],
 "metadata": {
  "kernelspec": {
   "display_name": "Python 3 (ipykernel)",
   "language": "python",
   "name": "python3"
  },
  "language_info": {
   "codemirror_mode": {
    "name": "ipython",
    "version": 3
   },
   "file_extension": ".py",
   "mimetype": "text/x-python",
   "name": "python",
   "nbconvert_exporter": "python",
   "pygments_lexer": "ipython3",
   "version": "3.8.5"
  }
 },
 "nbformat": 4,
 "nbformat_minor": 5
}
